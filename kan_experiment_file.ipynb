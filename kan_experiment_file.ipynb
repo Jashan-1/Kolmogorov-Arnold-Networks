{
  "nbformat": 4,
  "nbformat_minor": 0,
  "metadata": {
    "colab": {
      "provenance": []
    },
    "kernelspec": {
      "name": "python3",
      "display_name": "Python 3"
    },
    "language_info": {
      "name": "python"
    }
  },
  "cells": [
    {
      "cell_type": "markdown",
      "source": [
        "#Kolmogorov-Arnold Network\n",
        "\n",
        "KAN, or Kolmogorov-Arnold Networks, are a novel deep learning architecture that embraces structured external knowledge sources into neural networks to improve the understanding and reasoning of complex data. Models can better infer more accurate and contextually enriched insights that happen to be quite valuable in AI applications such as natural language processing, recommendation systems, etc.\n",
        "\n",
        "The research behind this work, titled \"Knowledge Graphs: Enhancing Neural Networks Through Structured Reasoning\" ([arXiv:2404.19756](https://arxiv.org/abs/2404.19756)), explores the concept of knowledge graphs and neural networks. It emphasizes how external knowledge bridges this gap in machine learning models so they can reason more meaningfully and deliver better results across a wide scale of tasks."
      ],
      "metadata": {
        "id": "cw98eN5m0uP4"
      }
    },
    {
      "cell_type": "code",
      "source": [
        "!pip install pykan"
      ],
      "metadata": {
        "colab": {
          "base_uri": "https://localhost:8080/"
        },
        "id": "6ZN7xcRKuQj2",
        "outputId": "48a254e9-9b25-457a-b100-61b958c39ffc"
      },
      "execution_count": 1,
      "outputs": [
        {
          "output_type": "stream",
          "name": "stdout",
          "text": [
            "Collecting pykan\n",
            "  Downloading pykan-0.2.7-py3-none-any.whl.metadata (11 kB)\n",
            "Downloading pykan-0.2.7-py3-none-any.whl (77 kB)\n",
            "\u001b[2K   \u001b[90m━━━━━━━━━━━━━━━━━━━━━━━━━━━━━━━━━━━━━━━━\u001b[0m \u001b[32m77.6/77.6 kB\u001b[0m \u001b[31m1.5 MB/s\u001b[0m eta \u001b[36m0:00:00\u001b[0m\n",
            "\u001b[?25hInstalling collected packages: pykan\n",
            "Successfully installed pykan-0.2.7\n"
          ]
        }
      ]
    },
    {
      "cell_type": "code",
      "source": [
        "from kan import *\n",
        "torch.set_default_dtype(torch.float64)\n",
        "\n",
        "device = torch.device('cuda' if torch.cuda.is_available() else 'cpu')\n",
        "print(device)\n",
        "\n",
        "# create a KAN: 2D inputs, 1D output, and 5 hidden neurons. cubic spline (k=3), 5 grid intervals (grid=5).\n",
        "model = KAN(width=[2,5,1], grid=3, k=3, seed=42, device=device)"
      ],
      "metadata": {
        "colab": {
          "base_uri": "https://localhost:8080/"
        },
        "id": "3pcnSshruQYh",
        "outputId": "38c837b2-c563-4c37-b0ac-53b2f1e478f2"
      },
      "execution_count": 2,
      "outputs": [
        {
          "output_type": "stream",
          "name": "stdout",
          "text": [
            "cpu\n",
            "checkpoint directory created: ./model\n",
            "saving model version 0.0\n"
          ]
        }
      ]
    },
    {
      "cell_type": "markdown",
      "source": [
        " Creating a dataset"
      ],
      "metadata": {
        "id": "c5N-2rne0vfi"
      }
    },
    {
      "cell_type": "code",
      "execution_count": 3,
      "metadata": {
        "colab": {
          "base_uri": "https://localhost:8080/"
        },
        "id": "t7yyq31LuNaB",
        "outputId": "0d636144-9b4f-45c4-b418-d6a377dc5e45"
      },
      "outputs": [
        {
          "output_type": "stream",
          "name": "stdout",
          "text": [
            "checkpoint directory created: ./model\n",
            "saving model version 0.0\n",
            "Dataset shapes:\n",
            "Train: torch.Size([8000, 2]), torch.Size([8000, 1])\n",
            "Validation: torch.Size([1000, 2]), torch.Size([1000, 1])\n",
            "Test: torch.Size([1000, 2]), torch.Size([1000, 1])\n"
          ]
        }
      ],
      "source": [
        "import random\n",
        "import torch\n",
        "import numpy as np\n",
        "from kan import KAN\n",
        "\n",
        "def generate_key_exchange_data(num_samples):\n",
        "    data = []\n",
        "    for _ in range(num_samples):\n",
        "        # Generate random keys within uint64 range\n",
        "        party_A_key = random.getrandbits(64)  # Use 64 bits instead of 128\n",
        "        party_B_key = random.getrandbits(64)  # Use 64 bits instead of 128\n",
        "        # XOR key exchange simulation\n",
        "        exchange = party_A_key ^ party_B_key\n",
        "        data.append((party_A_key, party_B_key, exchange))\n",
        "    return data\n",
        "\n",
        "# Generate the dataset\n",
        "num_samples = 10000\n",
        "key_exchange_data = generate_key_exchange_data(num_samples)\n",
        "\n",
        "# Convert to numpy arrays, specifying dtype as uint64\n",
        "X = np.array([(a, b) for a, b, _ in key_exchange_data], dtype=np.uint64)  # Specify dtype here\n",
        "y = np.array([e for _, _, e in key_exchange_data], dtype=np.uint64)  # Specify dtype here\n",
        "\n",
        "# Convert to PyTorch tensors\n",
        "X_tensor = torch.tensor(X, dtype=torch.float32)\n",
        "y_tensor = torch.tensor(y, dtype=torch.float32).unsqueeze(1)\n",
        "\n",
        "# Normalize the data\n",
        "X_tensor = (X_tensor - X_tensor.mean()) / X_tensor.std()\n",
        "y_tensor = (y_tensor - y_tensor.mean()) / y_tensor.std()\n",
        "\n",
        "# Create a dataset dictionary\n",
        "dataset = {\n",
        "    'train_input': X_tensor[:8000],\n",
        "    'train_label': y_tensor[:8000],\n",
        "    'val_input': X_tensor[8000:9000],\n",
        "    'val_label': y_tensor[8000:9000],\n",
        "    'test_input': X_tensor[9000:],\n",
        "    'test_label': y_tensor[9000:],\n",
        "}\n",
        "\n",
        "# Initialize and train KAN model\n",
        "# The original parameters 'n_var', 'n_layers', and 'n_nodes' are not part of the KAN constructor.\n",
        "# Instead, use 'width', 'grid', 'k', 'seed', and 'device' as in your previous usage.\n",
        "kan_model = KAN(width=[2, 5, 1], grid=3, k=3, seed=42, device=device)\n",
        "\n",
        "# Train the model (you'll need to implement this part based on KAN's API)\n",
        "# kan_model.train(dataset['train_input'], dataset['train_label'])\n",
        "\n",
        "# Evaluate the model\n",
        "# test_predictions = kan_model.predict(dataset['test_input'])\n",
        "# Calculate and print evaluation metrics\n",
        "\n",
        "print(\"Dataset shapes:\")\n",
        "print(f\"Train: {dataset['train_input'].shape}, {dataset['train_label'].shape}\")\n",
        "print(f\"Validation: {dataset['val_input'].shape}, {dataset['val_label'].shape}\")\n",
        "print(f\"Test: {dataset['test_input'].shape}, {dataset['test_label'].shape}\")"
      ]
    },
    {
      "cell_type": "code",
      "source": [
        "# plot KAN at initialization\n",
        "model(dataset['train_input']);\n",
        "model.plot()"
      ],
      "metadata": {
        "colab": {
          "base_uri": "https://localhost:8080/",
          "height": 345
        },
        "id": "HAeGfZgp_KL3",
        "outputId": "37e11b49-ec04-47ea-9d67-d080bfcd19c1"
      },
      "execution_count": 4,
      "outputs": [
        {
          "output_type": "display_data",
          "data": {
            "text/plain": [
              "<Figure size 500x400 with 22 Axes>"
            ],
            "image/png": "[encoded data removed]"
          },
          "metadata": {}
        }
      ]
    },
    {
      "cell_type": "markdown",
      "source": [
        "KAN Model Training"
      ],
      "metadata": {
        "id": "dTmoNkhW0t-S"
      }
    },
    {
      "cell_type": "code",
      "source": [
        "import torch\n",
        "import torch.optim as optim\n",
        "from torch.utils.data import DataLoader, TensorDataset\n",
        "\n",
        "# Ensure PyTorch is using double precision\n",
        "torch.set_default_dtype(torch.float64)\n",
        "\n",
        "def train_kan_model(model, dataset, num_epochs=100, batch_size=32, learning_rate=0.001):\n",
        "    # Prepare data loaders\n",
        "    train_loader = DataLoader(TensorDataset(dataset['train_input'].double(), dataset['train_label'].double()),\n",
        "                              batch_size=batch_size, shuffle=True)\n",
        "    val_loader = DataLoader(TensorDataset(dataset['val_input'].double(), dataset['val_label'].double()),\n",
        "                            batch_size=batch_size)\n",
        "\n",
        "    # Define loss function and optimizer\n",
        "    criterion = torch.nn.MSELoss()\n",
        "    optimizer = optim.Adam(model.parameters(), lr=learning_rate)\n",
        "\n",
        "    # Training loop\n",
        "    for epoch in range(num_epochs):\n",
        "        model.train()\n",
        "        train_loss = 0.0\n",
        "        for inputs, labels in train_loader:\n",
        "            inputs, labels = inputs.to(model.device), labels.to(model.device)\n",
        "\n",
        "            # Forward pass\n",
        "            outputs = model(inputs)\n",
        "            loss = criterion(outputs, labels)\n",
        "\n",
        "            # Backward pass and optimize\n",
        "            optimizer.zero_grad()\n",
        "            loss.backward()\n",
        "            optimizer.step()\n",
        "\n",
        "            train_loss += loss.item() * inputs.size(0)\n",
        "\n",
        "        # Validation\n",
        "        model.eval()\n",
        "        val_loss = 0.0\n",
        "        with torch.no_grad():\n",
        "            for inputs, labels in val_loader:\n",
        "                inputs, labels = inputs.to(model.device), labels.to(model.device)\n",
        "                outputs = model(inputs)\n",
        "                val_loss += criterion(outputs, labels).item() * inputs.size(0)\n",
        "\n",
        "        train_loss /= len(train_loader.dataset)\n",
        "        val_loss /= len(val_loader.dataset)\n",
        "\n",
        "        print(f'Epoch {epoch+1}/{num_epochs}, Train Loss: {train_loss:.4f}, Val Loss: {val_loss:.4f}')\n",
        "\n",
        "    return model\n",
        "\n",
        "# Convert dataset to double precision\n",
        "dataset = {key: value.double() for key, value in dataset.items()}\n",
        "\n",
        "# Train the model\n",
        "trained_model = train_kan_model(kan_model, dataset)\n",
        "\n",
        "# Evaluate the model on the test set\n",
        "test_loader = DataLoader(TensorDataset(dataset['test_input'].double(), dataset['test_label'].double()), batch_size=32)\n",
        "test_loss = 0.0\n",
        "trained_model.eval()\n",
        "with torch.no_grad():\n",
        "    for inputs, labels in test_loader:\n",
        "        inputs, labels = inputs.to(trained_model.device), labels.to(trained_model.device)\n",
        "        outputs = trained_model(inputs)\n",
        "        test_loss += torch.nn.MSELoss()(outputs, labels).item() * inputs.size(0)\n",
        "\n",
        "test_loss /= len(test_loader.dataset)\n",
        "print(f'Test Loss: {test_loss:.4f}')"
      ],
      "metadata": {
        "colab": {
          "base_uri": "https://localhost:8080/"
        },
        "id": "HqOkiySkyuFi",
        "outputId": "25811fd7-8537-489e-eba9-73bb9b4e40c8"
      },
      "execution_count": null,
      "outputs": [
        {
          "output_type": "stream",
          "name": "stdout",
          "text": [
            "Epoch 1/100, Train Loss: 0.8590, Val Loss: 0.5068\n",
            "Epoch 2/100, Train Loss: 0.3825, Val Loss: 0.3086\n",
            "Epoch 3/100, Train Loss: 0.3268, Val Loss: 0.2965\n",
            "Epoch 4/100, Train Loss: 0.3058, Val Loss: 0.2722\n",
            "Epoch 5/100, Train Loss: 0.2624, Val Loss: 0.2176\n",
            "Epoch 6/100, Train Loss: 0.2141, Val Loss: 0.1865\n",
            "Epoch 7/100, Train Loss: 0.1926, Val Loss: 0.1746\n",
            "Epoch 8/100, Train Loss: 0.1837, Val Loss: 0.1685\n",
            "Epoch 9/100, Train Loss: 0.1774, Val Loss: 0.1658\n",
            "Epoch 10/100, Train Loss: 0.1731, Val Loss: 0.1625\n",
            "Epoch 11/100, Train Loss: 0.1698, Val Loss: 0.1593\n",
            "Epoch 12/100, Train Loss: 0.1669, Val Loss: 0.1574\n",
            "Epoch 13/100, Train Loss: 0.1640, Val Loss: 0.1565\n",
            "Epoch 14/100, Train Loss: 0.1616, Val Loss: 0.1552\n",
            "Epoch 15/100, Train Loss: 0.1598, Val Loss: 0.1513\n",
            "Epoch 16/100, Train Loss: 0.1581, Val Loss: 0.1486\n",
            "Epoch 17/100, Train Loss: 0.1564, Val Loss: 0.1497\n",
            "Epoch 18/100, Train Loss: 0.1552, Val Loss: 0.1504\n",
            "Epoch 19/100, Train Loss: 0.1540, Val Loss: 0.1476\n",
            "Epoch 20/100, Train Loss: 0.1527, Val Loss: 0.1472\n",
            "Epoch 21/100, Train Loss: 0.1521, Val Loss: 0.1481\n",
            "Epoch 22/100, Train Loss: 0.1516, Val Loss: 0.1466\n",
            "Epoch 23/100, Train Loss: 0.1504, Val Loss: 0.1455\n",
            "Epoch 24/100, Train Loss: 0.1499, Val Loss: 0.1452\n",
            "Epoch 25/100, Train Loss: 0.1494, Val Loss: 0.1459\n",
            "Epoch 26/100, Train Loss: 0.1487, Val Loss: 0.1447\n",
            "Epoch 27/100, Train Loss: 0.1481, Val Loss: 0.1451\n",
            "Epoch 28/100, Train Loss: 0.1477, Val Loss: 0.1433\n",
            "Epoch 29/100, Train Loss: 0.1470, Val Loss: 0.1457\n",
            "Epoch 30/100, Train Loss: 0.1468, Val Loss: 0.1438\n",
            "Epoch 31/100, Train Loss: 0.1463, Val Loss: 0.1445\n",
            "Epoch 32/100, Train Loss: 0.1455, Val Loss: 0.1434\n",
            "Epoch 33/100, Train Loss: 0.1451, Val Loss: 0.1433\n",
            "Epoch 34/100, Train Loss: 0.1448, Val Loss: 0.1391\n",
            "Epoch 35/100, Train Loss: 0.1442, Val Loss: 0.1391\n",
            "Epoch 36/100, Train Loss: 0.1427, Val Loss: 0.1378\n",
            "Epoch 37/100, Train Loss: 0.1423, Val Loss: 0.1381\n",
            "Epoch 38/100, Train Loss: 0.1410, Val Loss: 0.1366\n",
            "Epoch 39/100, Train Loss: 0.1395, Val Loss: 0.1363\n",
            "Epoch 40/100, Train Loss: 0.1393, Val Loss: 0.1350\n",
            "Epoch 41/100, Train Loss: 0.1384, Val Loss: 0.1322\n",
            "Epoch 42/100, Train Loss: 0.1375, Val Loss: 0.1352\n",
            "Epoch 43/100, Train Loss: 0.1372, Val Loss: 0.1342\n",
            "Epoch 44/100, Train Loss: 0.1367, Val Loss: 0.1313\n",
            "Epoch 45/100, Train Loss: 0.1359, Val Loss: 0.1317\n",
            "Epoch 46/100, Train Loss: 0.1357, Val Loss: 0.1311\n",
            "Epoch 47/100, Train Loss: 0.1347, Val Loss: 0.1304\n",
            "Epoch 48/100, Train Loss: 0.1343, Val Loss: 0.1316\n",
            "Epoch 49/100, Train Loss: 0.1339, Val Loss: 0.1328\n",
            "Epoch 50/100, Train Loss: 0.1336, Val Loss: 0.1302\n",
            "Epoch 51/100, Train Loss: 0.1336, Val Loss: 0.1304\n",
            "Epoch 52/100, Train Loss: 0.1329, Val Loss: 0.1302\n",
            "Epoch 53/100, Train Loss: 0.1325, Val Loss: 0.1290\n",
            "Epoch 54/100, Train Loss: 0.1322, Val Loss: 0.1286\n",
            "Epoch 55/100, Train Loss: 0.1320, Val Loss: 0.1286\n",
            "Epoch 56/100, Train Loss: 0.1317, Val Loss: 0.1296\n",
            "Epoch 57/100, Train Loss: 0.1319, Val Loss: 0.1280\n",
            "Epoch 58/100, Train Loss: 0.1314, Val Loss: 0.1270\n",
            "Epoch 59/100, Train Loss: 0.1313, Val Loss: 0.1269\n",
            "Epoch 60/100, Train Loss: 0.1312, Val Loss: 0.1268\n",
            "Epoch 61/100, Train Loss: 0.1308, Val Loss: 0.1270\n",
            "Epoch 62/100, Train Loss: 0.1302, Val Loss: 0.1280\n",
            "Epoch 63/100, Train Loss: 0.1304, Val Loss: 0.1264\n",
            "Epoch 64/100, Train Loss: 0.1304, Val Loss: 0.1267\n",
            "Epoch 65/100, Train Loss: 0.1298, Val Loss: 0.1289\n",
            "Epoch 66/100, Train Loss: 0.1294, Val Loss: 0.1280\n",
            "Epoch 67/100, Train Loss: 0.1297, Val Loss: 0.1264\n",
            "Epoch 68/100, Train Loss: 0.1298, Val Loss: 0.1267\n",
            "Epoch 69/100, Train Loss: 0.1295, Val Loss: 0.1257\n",
            "Epoch 70/100, Train Loss: 0.1293, Val Loss: 0.1247\n",
            "Epoch 71/100, Train Loss: 0.1289, Val Loss: 0.1257\n",
            "Epoch 72/100, Train Loss: 0.1292, Val Loss: 0.1261\n",
            "Epoch 73/100, Train Loss: 0.1290, Val Loss: 0.1247\n",
            "Epoch 74/100, Train Loss: 0.1288, Val Loss: 0.1257\n",
            "Epoch 75/100, Train Loss: 0.1288, Val Loss: 0.1246\n",
            "Epoch 76/100, Train Loss: 0.1284, Val Loss: 0.1250\n",
            "Epoch 77/100, Train Loss: 0.1285, Val Loss: 0.1256\n",
            "Epoch 78/100, Train Loss: 0.1279, Val Loss: 0.1238\n",
            "Epoch 79/100, Train Loss: 0.1280, Val Loss: 0.1260\n",
            "Epoch 80/100, Train Loss: 0.1278, Val Loss: 0.1244\n",
            "Epoch 81/100, Train Loss: 0.1280, Val Loss: 0.1247\n",
            "Epoch 82/100, Train Loss: 0.1279, Val Loss: 0.1230\n",
            "Epoch 83/100, Train Loss: 0.1275, Val Loss: 0.1241\n",
            "Epoch 84/100, Train Loss: 0.1272, Val Loss: 0.1230\n",
            "Epoch 85/100, Train Loss: 0.1274, Val Loss: 0.1228\n",
            "Epoch 86/100, Train Loss: 0.1267, Val Loss: 0.1251\n",
            "Epoch 87/100, Train Loss: 0.1271, Val Loss: 0.1249\n",
            "Epoch 88/100, Train Loss: 0.1268, Val Loss: 0.1239\n",
            "Epoch 89/100, Train Loss: 0.1265, Val Loss: 0.1228\n",
            "Epoch 90/100, Train Loss: 0.1268, Val Loss: 0.1227\n",
            "Epoch 91/100, Train Loss: 0.1263, Val Loss: 0.1226\n",
            "Epoch 92/100, Train Loss: 0.1261, Val Loss: 0.1235\n",
            "Epoch 93/100, Train Loss: 0.1258, Val Loss: 0.1219\n",
            "Epoch 94/100, Train Loss: 0.1257, Val Loss: 0.1228\n",
            "Epoch 95/100, Train Loss: 0.1259, Val Loss: 0.1224\n",
            "Epoch 96/100, Train Loss: 0.1258, Val Loss: 0.1218\n",
            "Epoch 97/100, Train Loss: 0.1255, Val Loss: 0.1218\n",
            "Epoch 98/100, Train Loss: 0.1255, Val Loss: 0.1214\n",
            "Epoch 99/100, Train Loss: 0.1251, Val Loss: 0.1253\n",
            "Epoch 100/100, Train Loss: 0.1253, Val Loss: 0.1222\n",
            "Test Loss: 0.1202\n"
          ]
        }
      ]
    },
    {
      "cell_type": "markdown",
      "source": [
        "KAN Model Evaluation"
      ],
      "metadata": {
        "id": "Rmw51ra-0j1m"
      }
    },
    {
      "cell_type": "code",
      "source": [
        "import torch\n",
        "import numpy as np\n",
        "from sklearn.metrics import mean_squared_error, mean_absolute_error, r2_score\n",
        "\n",
        "def evaluate_model(model, test_input, test_label):\n",
        "       model.eval()\n",
        "       with torch.no_grad():\n",
        "           predictions = model(test_input.to(model.device)).cpu().numpy()\n",
        "           true_values = test_label.cpu().numpy()\n",
        "\n",
        "       mse = mean_squared_error(true_values, predictions)\n",
        "       mae = mean_absolute_error(true_values, predictions)\n",
        "       r2 = r2_score(true_values, predictions)\n",
        "\n",
        "       print(f\"Mean Squared Error: {mse:.4f}\")\n",
        "       print(f\"Mean Absolute Error: {mae:.4f}\")\n",
        "       print(f\"R-squared Score: {r2:.4f}\")\n",
        "\n",
        "       return mse, mae, r2\n",
        "\n",
        "   # Assuming dataset['test_input'] and dataset['test_label'] exist\n",
        "mse, mae, r2 = evaluate_model(trained_model, dataset['test_input'], dataset['test_label'])"
      ],
      "metadata": {
        "colab": {
          "base_uri": "https://localhost:8080/"
        },
        "id": "45wfuMigzULK",
        "outputId": "902727d9-3a9c-4bb5-94b4-0fa69dea6401"
      },
      "execution_count": null,
      "outputs": [
        {
          "output_type": "stream",
          "name": "stdout",
          "text": [
            "Mean Squared Error: 0.1202\n",
            "Mean Absolute Error: 0.2632\n",
            "R-squared Score: 0.8749\n"
          ]
        }
      ]
    },
    {
      "cell_type": "code",
      "source": [],
      "metadata": {
        "id": "eFNrPtA01Oox"
      },
      "execution_count": null,
      "outputs": []
    }
  ]
}